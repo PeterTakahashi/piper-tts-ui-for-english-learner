{
 "cells": [
  {
   "cell_type": "code",
   "execution_count": 1,
   "id": "f99ba956-24ac-47bf-a2af-5519f7f3e965",
   "metadata": {},
   "outputs": [
    {
     "name": "stdout",
     "output_type": "stream",
     "text": [
      "British: ˌɒntɹɪpɹənjˈʊə\n",
      "American: ˌɑːntɹɪpɹənˈʊɹ\n"
     ]
    }
   ],
   "source": [
    "from phonemizer import phonemize\n",
    "\n",
    "text = \"entrepreneur\"\n",
    "\n",
    "# British English (en-gb)\n",
    "british = phonemize(\n",
    "    text,\n",
    "    language='en-gb',     # ← イギリス英語\n",
    "    backend='espeak',\n",
    "    strip=True,\n",
    "    with_stress=True\n",
    ")\n",
    "\n",
    "# American English (en-us)\n",
    "american = phonemize(\n",
    "    text,\n",
    "    language='en-us',     # ← アメリカ英語\n",
    "    backend='espeak',\n",
    "    strip=True,\n",
    "    with_stress=True\n",
    ")\n",
    "\n",
    "print(\"British:\", british)\n",
    "print(\"American:\", american)"
   ]
  },
  {
   "cell_type": "code",
   "execution_count": null,
   "id": "83682ad3-b5f6-400e-b1a8-32cf274006e2",
   "metadata": {},
   "outputs": [],
   "source": []
  }
 ],
 "metadata": {
  "kernelspec": {
   "display_name": "Python 3 (ipykernel)",
   "language": "python",
   "name": "python3"
  },
  "language_info": {
   "codemirror_mode": {
    "name": "ipython",
    "version": 3
   },
   "file_extension": ".py",
   "mimetype": "text/x-python",
   "name": "python",
   "nbconvert_exporter": "python",
   "pygments_lexer": "ipython3",
   "version": "3.12.2"
  }
 },
 "nbformat": 4,
 "nbformat_minor": 5
}
